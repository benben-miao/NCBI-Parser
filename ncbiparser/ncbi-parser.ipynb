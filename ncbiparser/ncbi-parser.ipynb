{
 "cells": [
  {
   "cell_type": "code",
   "execution_count": 1,
   "id": "dcbd9193-9d9c-4d5f-a446-f2d6a02c196b",
   "metadata": {},
   "outputs": [],
   "source": [
    "from Bio import Entrez\n",
    "\n",
    "Entrez.email = \"benben.miao@outlook.com\"\n",
    "Entrez.api_key = \"599c49d62fb353ea412ff6d13cedec568c09\""
   ]
  },
  {
   "cell_type": "code",
   "execution_count": 2,
   "id": "81a89749-e434-4872-8be1-85d0ff23849d",
   "metadata": {},
   "outputs": [
    {
     "name": "stdout",
     "output_type": "stream",
     "text": [
      "b'<?xml version=\"1.0\" encoding=\"UTF-8\" ?>\\n<!DOCTYPE eInfoResult PUBLIC \"-//NLM//DTD einfo 20190110//EN\" \"https://eutils.ncbi.nlm.nih.gov/eutils/dtd/20190110/einfo.dtd\">\\n<eInfoResult>\\n<DbList>\\n\\n\\t<DbName>pubmed</DbName>\\n\\t<DbName>protein</DbName>\\n\\t<DbName>nuccore</DbName>\\n\\t<DbName>ipg</DbName>\\n\\t<DbName>nucleotide</DbName>\\n\\t<DbName>structure</DbName>\\n\\t<DbName>genome</DbName>\\n\\t<DbName>annotinfo</DbName>\\n\\t<DbName>assembly</DbName>\\n\\t<DbName>bioproject</DbName>\\n\\t<DbName>biosample</DbName>\\n\\t<DbName>blastdbinfo</DbName>\\n\\t<DbName>books</DbName>\\n\\t<DbName>cdd</DbName>\\n\\t<DbName>clinvar</DbName>\\n\\t<DbName>gap</DbName>\\n\\t<DbName>gapplus</DbName>\\n\\t<DbName>grasp</DbName>\\n\\t<DbName>dbvar</DbName>\\n\\t<DbName>gene</DbName>\\n\\t<DbName>gds</DbName>\\n\\t<DbName>geoprofiles</DbName>\\n\\t<DbName>homologene</DbName>\\n\\t<DbName>medgen</DbName>\\n\\t<DbName>mesh</DbName>\\n\\t<DbName>ncbisearch</DbName>\\n\\t<DbName>nlmcatalog</DbName>\\n\\t<DbName>omim</DbName>\\n\\t<DbName>orgtrack</DbName>\\n\\t<DbName>pmc</DbName>\\n\\t<DbName>popset</DbName>\\n\\t<DbName>proteinclusters</DbName>\\n\\t<DbName>pcassay</DbName>\\n\\t<DbName>protfam</DbName>\\n\\t<DbName>pccompound</DbName>\\n\\t<DbName>pcsubstance</DbName>\\n\\t<DbName>seqannot</DbName>\\n\\t<DbName>snp</DbName>\\n\\t<DbName>sra</DbName>\\n\\t<DbName>taxonomy</DbName>\\n\\t<DbName>biocollections</DbName>\\n\\t<DbName>gtr</DbName>\\n</DbList>\\n\\n</eInfoResult>\\n'\n"
     ]
    }
   ],
   "source": [
    "handle = Entrez.einfo()\n",
    "result = handle.read()\n",
    "handle.close()\n",
    "print(result)"
   ]
  },
  {
   "cell_type": "code",
   "execution_count": 3,
   "id": "e6c4e5d4-704d-4f2a-9339-58cc39415074",
   "metadata": {},
   "outputs": [
    {
     "data": {
      "text/plain": [
       "{'DbList': ['pubmed', 'protein', 'nuccore', 'ipg', 'nucleotide', 'structure', 'genome', 'annotinfo', 'assembly', 'bioproject', 'biosample', 'blastdbinfo', 'books', 'cdd', 'clinvar', 'gap', 'gapplus', 'grasp', 'dbvar', 'gene', 'gds', 'geoprofiles', 'homologene', 'medgen', 'mesh', 'ncbisearch', 'nlmcatalog', 'omim', 'orgtrack', 'pmc', 'popset', 'proteinclusters', 'pcassay', 'protfam', 'pccompound', 'pcsubstance', 'seqannot', 'snp', 'sra', 'taxonomy', 'biocollections', 'gtr']}"
      ]
     },
     "execution_count": 3,
     "metadata": {},
     "output_type": "execute_result"
    }
   ],
   "source": [
    "handle = Entrez.einfo()\n",
    "record = Entrez.read(handle)\n",
    "record"
   ]
  },
  {
   "cell_type": "code",
   "execution_count": 4,
   "id": "96c98343-3046-47a3-a711-b728b5580750",
   "metadata": {},
   "outputs": [
    {
     "data": {
      "text/plain": [
       "['pubmed', 'protein', 'nuccore', 'ipg', 'nucleotide', 'structure', 'genome', 'annotinfo', 'assembly', 'bioproject', 'biosample', 'blastdbinfo', 'books', 'cdd', 'clinvar', 'gap', 'gapplus', 'grasp', 'dbvar', 'gene', 'gds', 'geoprofiles', 'homologene', 'medgen', 'mesh', 'ncbisearch', 'nlmcatalog', 'omim', 'orgtrack', 'pmc', 'popset', 'proteinclusters', 'pcassay', 'protfam', 'pccompound', 'pcsubstance', 'seqannot', 'snp', 'sra', 'taxonomy', 'biocollections', 'gtr']"
      ]
     },
     "execution_count": 4,
     "metadata": {},
     "output_type": "execute_result"
    }
   ],
   "source": [
    "record[\"DbList\"]"
   ]
  },
  {
   "cell_type": "code",
   "execution_count": 5,
   "id": "c6464fe6-07a1-41de-bb77-79b9bd77d789",
   "metadata": {},
   "outputs": [
    {
     "data": {
      "text/plain": [
       "{'Count': '3', 'RetMax': '3', 'RetStart': '0', 'IdList': ['34434786', '22909249', '19304878'], 'TranslationSet': [], 'TranslationStack': [{'Term': 'biopython[title]', 'Field': 'title', 'Count': '3', 'Explode': 'N'}, 'GROUP'], 'QueryTranslation': 'biopython[title]'}"
      ]
     },
     "execution_count": 5,
     "metadata": {},
     "output_type": "execute_result"
    }
   ],
   "source": [
    "handle = Entrez.esearch(db=\"pubmed\", \n",
    "                        term=\"biopython[title]\", \n",
    "                        retmax=\"50\")\n",
    "record = Entrez.read(handle)\n",
    "record"
   ]
  },
  {
   "cell_type": "code",
   "execution_count": 6,
   "id": "67cfe701-de10-4d48-a016-b26771b14ab1",
   "metadata": {
    "tags": []
   },
   "outputs": [
    {
     "data": {
      "text/plain": [
       "{'Count': '130', 'RetMax': '130', 'RetStart': '0', 'IdList': ['LC680889.1', 'LC654184.1', 'NC_056780.1', 'LC649152.1', 'MK182268.1', 'LC201769.1', 'LC549178.1', 'LC549177.1', 'LC549176.1', 'LC549175.1', 'LC549174.1', 'LC549173.1', 'LC549172.1', 'LC549171.1', 'LC549170.1', 'LC549169.1', 'LC549168.1', 'LC549167.1', 'LC549166.1', 'LC549165.1', 'LC549164.1', 'LC549163.1', 'LC549162.1', 'LC549161.1', 'LC549160.1', 'LC549159.1', 'LC549158.1', 'LC549157.1', 'LC549156.1', 'LC549155.1', 'LC549154.1', 'LC549153.1', 'LC549152.1', 'MW518930.1', 'MW518874.1', 'MW518873.1', 'MW518872.1', 'MW518871.1', 'MW518870.1', 'MN909968.1', 'MK919144.1', 'MK919143.1', 'MK919142.1', 'MK919141.1', 'MK919140.1', 'MK919139.1', 'MK919138.1', 'MK919137.1', 'MK919136.1', 'MK919135.1', 'MK919134.1', 'MK919133.1', 'MK919132.1', 'MK919131.1', 'MK919130.1', 'MK919129.1', 'MH363710.1', 'KY855485.1', 'KY855484.1', 'KY855483.1', 'KY855482.1', 'KY855481.1', 'KY855480.1', 'KY855458.1', 'KY855457.1', 'KY855456.1', 'KY855455.1', 'KY855454.1', 'KY855453.1', 'KY855452.1', 'KY855451.1', 'KY855450.1', 'KY855449.1', 'KY855448.1', 'NC_040957.1', 'MK112875.1', 'KX234644.1', 'KX234643.1', 'EF506764.1', 'KT805958.1', 'KR069116.1', 'AB689899.1', 'AB689898.1', 'AB689897.1', 'AB689896.1', 'AB689895.1', 'AB689894.1', 'AB689893.1', 'AB689892.1', 'AB689891.1', 'AB689890.1', 'AB689889.1', 'AB689888.1', 'AB689887.1', 'AB689886.1', 'AB689885.1', 'AB689884.1', 'AB689883.1', 'AB689882.1', 'AB689881.1', 'AB689880.1', 'AB689879.1', 'AB689878.1', 'AB689877.1', 'AB689876.1', 'AB689875.1', 'AB689874.1', 'AB689873.1', 'AB689872.1', 'AB689871.1', 'AB689870.1', 'AB689869.1', 'NC_018553.1', 'JQ746035.1', 'JN688792.1', 'JN211707.1', 'JN211706.1', 'JN211705.1', 'JN211704.1', 'JN211541.1', 'JN211540.1', 'JN211539.1', 'JN211538.1', 'HQ853349.1', 'EF422805.1', 'AF247413.1', 'AY502113.1', 'AY456140.1', 'AY456137.1', 'AF297467.1'], 'TranslationSet': [{'From': 'Acanthopagrus', 'To': '\"Acanthopagrus\"[Organism] OR Acanthopagrus[All Fields]'}], 'TranslationStack': [{'Term': '\"Acanthopagrus\"[Organism]', 'Field': 'Organism', 'Count': '67429', 'Explode': 'Y'}, {'Term': 'Acanthopagrus[All Fields]', 'Field': 'All Fields', 'Count': '67672', 'Explode': 'N'}, 'OR', 'GROUP', {'Term': '16S[All Fields]', 'Field': 'All Fields', 'Count': '43563324', 'Explode': 'N'}, 'AND', 'GROUP'], 'QueryTranslation': '(\"Acanthopagrus\"[Organism] OR Acanthopagrus[All Fields]) AND 16S[All Fields]'}"
      ]
     },
     "execution_count": 6,
     "metadata": {},
     "output_type": "execute_result"
    }
   ],
   "source": [
    "handle = Entrez.esearch(db=\"nucleotide\", \n",
    "                        term=\"Acanthopagrus 16S\", \n",
    "                        idtype=\"acc\", \n",
    "                        retmax=\"500\", \n",
    "                        retstart=\"0\")\n",
    "record = Entrez.read(handle)\n",
    "record"
   ]
  },
  {
   "cell_type": "code",
   "execution_count": 7,
   "id": "95eeb1b6-ca74-49f8-bd9f-b8d6ec95b447",
   "metadata": {},
   "outputs": [
    {
     "data": {
      "text/plain": [
       "True"
      ]
     },
     "execution_count": 7,
     "metadata": {},
     "output_type": "execute_result"
    }
   ],
   "source": [
    "\"MK919144.1\" in record['IdList']"
   ]
  },
  {
   "cell_type": "code",
   "execution_count": 8,
   "id": "c461f392-ba00-422b-ac84-4252b60fe928",
   "metadata": {
    "scrolled": true,
    "tags": []
   },
   "outputs": [
    {
     "name": "stdout",
     "output_type": "stream",
     "text": [
      "LOCUS       MK919144                 567 bp    DNA     linear   VRT 10-JUL-2020\n",
      "DEFINITION  Acanthopagrus pacificus voucher SPAR040418-1 16S ribosomal RNA\n",
      "            gene, partial sequence; mitochondrial.\n",
      "ACCESSION   MK919144\n",
      "VERSION     MK919144.1\n",
      "KEYWORDS    .\n",
      "SOURCE      mitochondrion Acanthopagrus pacificus (Pacific sunbream)\n",
      "  ORGANISM  Acanthopagrus pacificus\n",
      "            Eukaryota; Metazoa; Chordata; Craniata; Vertebrata; Euteleostomi;\n",
      "            Actinopterygii; Neopterygii; Teleostei; Neoteleostei;\n",
      "            Acanthomorphata; Eupercaria; Spariformes; Sparidae; Acanthopagrus.\n",
      "REFERENCE   1  (bases 1 to 567)\n",
      "  AUTHORS   Hasan,M.E., Durand,J.-D. and Iwatsuki,Y.\n",
      "  TITLE     Acanthopagrus datnia (Hamilton, 1822), a senior synonym\n",
      "            of#Acanthopagrus longispinnis (Valenciennes, 1830) (Perciformes:\n",
      "            Sparidae)\n",
      "  JOURNAL   Zootaxa 4750 (2), 151-181 (2020)\n",
      "REFERENCE   2  (bases 1 to 567)\n",
      "  AUTHORS   Hassan,M.E., Durand,J.-D. and Iwatsuki,Y.\n",
      "  TITLE     Direct Submission\n",
      "  JOURNAL   Submitted (10-MAY-2019) Ocean, IRD, MARBEC cc093 Bat 24 Place E.\n",
      "            Bataillon, Montpellier, Herault 34095, France\n",
      "FEATURES             Location/Qualifiers\n",
      "     source          1..567\n",
      "                     /organism=\"Acanthopagrus pacificus\"\n",
      "                     /organelle=\"mitochondrion\"\n",
      "                     /mol_type=\"genomic DNA\"\n",
      "                     /specimen_voucher=\"SPAR040418-1\"\n",
      "                     /db_xref=\"BOLD:SPARM032-19.16S\"\n",
      "                     /db_xref=\"taxon:1129777\"\n",
      "                     /country=\"Viet Nam: Ba Ria-Vung Tau, V##ng T##u (fish\n",
      "                     market in Ho Chi Minh, D2)\"\n",
      "                     /collection_date=\"04-Apr-2018\"\n",
      "                     /collected_by=\"Jean-Dominique Durand\"\n",
      "                     /identified_by=\"Jean-Dominique Durand\"\n",
      "     rRNA            <1..>567\n",
      "                     /product=\"16S ribosomal RNA\"\n",
      "ORIGIN      \n",
      "        1 aagaggtccc gcctgccctg tgactatatg ttcaacggcc gcggtatttt gaccgtgcga\n",
      "       61 aggtagcgta atcacttgtc ttttaaatga agacctgtat gaatggcacc acgagggctt\n",
      "      121 aactgtctcc ctctcccagt caatgaaatt gattcccccg tgcagaagcg gggataaaag\n",
      "      181 cataagacga gaagacccta tggagcttaa gacgccagga cagctcatgt taaacactcc\n",
      "      241 aaaataaagg aaataaactg attgaaaccc tgtcctagtg tctttggttg gggcgaccac\n",
      "      301 ggggaaaaat ctaaccccca tgtggaatag gaatactatt ttcccatacc caagagttcc\n",
      "      361 cgctctaata aacagaactt ctgaccaaaa tggatccggc aatgccgatc aacggaccga\n",
      "      421 gttaccctag ggataacagc gcaatcctct taaagagtcc ctatcgacaa gggggtttac\n",
      "      481 gacctcgatg ttggatcagg acatcctaat ggtgcagccg ctattaaggg ttcgtttgtt\n",
      "      541 caacgattaa agtcctacgt gatctga\n",
      "//\n",
      "\n",
      "\n"
     ]
    }
   ],
   "source": [
    "handle = Entrez.efetch(db=\"nucleotide\", \n",
    "                       id=\"MK919144.1\", \n",
    "                       rettype=\"gb\",\n",
    "                       retmode=\"text\")\n",
    "print(handle.read())\n",
    "handle.close()"
   ]
  },
  {
   "cell_type": "code",
   "execution_count": 9,
   "id": "0d320dd8-52b0-461a-a489-5d880f04090a",
   "metadata": {
    "scrolled": true,
    "tags": []
   },
   "outputs": [
    {
     "name": "stdout",
     "output_type": "stream",
     "text": [
      ">MK919144.1 Acanthopagrus pacificus voucher SPAR040418-1 16S ribosomal RNA gene, partial sequence; mitochondrial\n",
      "AAGAGGTCCCGCCTGCCCTGTGACTATATGTTCAACGGCCGCGGTATTTTGACCGTGCGAAGGTAGCGTA\n",
      "ATCACTTGTCTTTTAAATGAAGACCTGTATGAATGGCACCACGAGGGCTTAACTGTCTCCCTCTCCCAGT\n",
      "CAATGAAATTGATTCCCCCGTGCAGAAGCGGGGATAAAAGCATAAGACGAGAAGACCCTATGGAGCTTAA\n",
      "GACGCCAGGACAGCTCATGTTAAACACTCCAAAATAAAGGAAATAAACTGATTGAAACCCTGTCCTAGTG\n",
      "TCTTTGGTTGGGGCGACCACGGGGAAAAATCTAACCCCCATGTGGAATAGGAATACTATTTTCCCATACC\n",
      "CAAGAGTTCCCGCTCTAATAAACAGAACTTCTGACCAAAATGGATCCGGCAATGCCGATCAACGGACCGA\n",
      "GTTACCCTAGGGATAACAGCGCAATCCTCTTAAAGAGTCCCTATCGACAAGGGGGTTTACGACCTCGATG\n",
      "TTGGATCAGGACATCCTAATGGTGCAGCCGCTATTAAGGGTTCGTTTGTTCAACGATTAAAGTCCTACGT\n",
      "GATCTGA\n",
      "\n",
      "\n"
     ]
    }
   ],
   "source": [
    "handle = Entrez.efetch(db=\"nucleotide\", \n",
    "                       id=\"MK919144.1\", \n",
    "                       rettype=\"fasta\",\n",
    "                       retmode=\"text\")\n",
    "print(handle.read())\n",
    "handle.close()"
   ]
  },
  {
   "cell_type": "code",
   "execution_count": 10,
   "id": "eb378af0-f6b2-444f-a2b0-e628cdfe3c60",
   "metadata": {},
   "outputs": [
    {
     "name": "stdout",
     "output_type": "stream",
     "text": [
      "ID: MK919144.1\n",
      "Name: MK919144\n",
      "Description: Acanthopagrus pacificus voucher SPAR040418-1 16S ribosomal RNA gene, partial sequence; mitochondrial\n",
      "Number of features: 2\n",
      "/molecule_type=DNA\n",
      "/topology=linear\n",
      "/data_file_division=VRT\n",
      "/date=10-JUL-2020\n",
      "/accessions=['MK919144']\n",
      "/sequence_version=1\n",
      "/keywords=['']\n",
      "/source=mitochondrion Acanthopagrus pacificus (Pacific sunbream)\n",
      "/organism=Acanthopagrus pacificus\n",
      "/taxonomy=['Eukaryota', 'Metazoa', 'Chordata', 'Craniata', 'Vertebrata', 'Euteleostomi', 'Actinopterygii', 'Neopterygii', 'Teleostei', 'Neoteleostei', 'Acanthomorphata', 'Eupercaria', 'Spariformes', 'Sparidae', 'Acanthopagrus']\n",
      "/references=[Reference(title='Acanthopagrus datnia (Hamilton, 1822), a senior synonym of#Acanthopagrus longispinnis (Valenciennes, 1830) (Perciformes: Sparidae)', ...), Reference(title='Direct Submission', ...)]\n",
      "Seq('AAGAGGTCCCGCCTGCCCTGTGACTATATGTTCAACGGCCGCGGTATTTTGACC...TGA')\n"
     ]
    }
   ],
   "source": [
    "from Bio import SeqIO\n",
    "\n",
    "handle = Entrez.efetch(db=\"nucleotide\", \n",
    "                       id=\"MK919144.1\", \n",
    "                       rettype=\"gb\",\n",
    "                       retmode=\"text\")\n",
    "seq_record = SeqIO.read(handle, \"genbank\")\n",
    "handle.close()\n",
    "print(seq_record)"
   ]
  },
  {
   "cell_type": "code",
   "execution_count": 11,
   "id": "f4c245b0-98fe-47c6-9940-8dcabe9cb4f4",
   "metadata": {},
   "outputs": [
    {
     "name": "stdout",
     "output_type": "stream",
     "text": [
      "AAGAGGTCCCGCCTGCCCTGTGACTATATGTTCAACGGCCGCGGTATTTTGACCGTGCGAAGGTAGCGTAATCACTTGTCTTTTAAATGAAGACCTGTATGAATGGCACCACGAGGGCTTAACTGTCTCCCTCTCCCAGTCAATGAAATTGATTCCCCCGTGCAGAAGCGGGGATAAAAGCATAAGACGAGAAGACCCTATGGAGCTTAAGACGCCAGGACAGCTCATGTTAAACACTCCAAAATAAAGGAAATAAACTGATTGAAACCCTGTCCTAGTGTCTTTGGTTGGGGCGACCACGGGGAAAAATCTAACCCCCATGTGGAATAGGAATACTATTTTCCCATACCCAAGAGTTCCCGCTCTAATAAACAGAACTTCTGACCAAAATGGATCCGGCAATGCCGATCAACGGACCGAGTTACCCTAGGGATAACAGCGCAATCCTCTTAAAGAGTCCCTATCGACAAGGGGGTTTACGACCTCGATGTTGGATCAGGACATCCTAATGGTGCAGCCGCTATTAAGGGTTCGTTTGTTCAACGATTAAAGTCCTACGTGATCTGA\n"
     ]
    }
   ],
   "source": [
    "print(seq_record.seq)"
   ]
  },
  {
   "cell_type": "code",
   "execution_count": 12,
   "id": "86674b42-8bd9-46d0-a0f7-33f8e157c281",
   "metadata": {},
   "outputs": [
    {
     "name": "stdout",
     "output_type": "stream",
     "text": [
      "GenBank file saved\n",
      "Sequence file saved\n"
     ]
    }
   ],
   "source": [
    "import os\n",
    "from Bio import SeqIO\n",
    "from Bio import Entrez\n",
    "\n",
    "f_genbank = \"MK919144.1.gbk\"\n",
    "f_seq = \"MK919144.1.seq\"\n",
    "if not os.path.isfile(f_seq):\n",
    "    net_handle = Entrez.efetch(\n",
    "        db=\"nucleotide\", \n",
    "        id=\"MK919144.1\", \n",
    "        rettype=\"gb\", \n",
    "        retmode=\"text\"\n",
    "    )\n",
    "    genbank_record = net_handle.read()\n",
    "    genbank_handle = open(f_genbank, \"w\")\n",
    "    genbank_handle.write(genbank_record)\n",
    "    print(\"GenBank file saved\")\n",
    "    \n",
    "    # seq_record = SeqIO.read(net_handle, \"genbank\")\n",
    "    # seq_handle = open(f_seq, \"w\")\n",
    "    # seq_handle.write(str(seq_record.seq))\n",
    "    # print(\"Sequence file saved\")\n",
    "    \n",
    "    genbank_handle.close()\n",
    "    # seq_handle.close()\n",
    "    net_handle.close()\n",
    "\n",
    "seq_record = SeqIO.read(f_genbank, \"genbank\")\n",
    "seq_handle = open(f_seq, \"w\")\n",
    "seq_handle.write(str(seq_record.seq))\n",
    "print(\"Sequence file saved\")\n",
    "seq_handle.close()"
   ]
  },
  {
   "cell_type": "code",
   "execution_count": 13,
   "id": "3bd25617-a213-462b-a888-b27115f85e8a",
   "metadata": {},
   "outputs": [
    {
     "data": {
      "text/plain": [
       "SeqRecord(seq=Seq('AAGAGGTCCCGCCTGCCCTGTGACTATATGTTCAACGGCCGCGGTATTTTGACC...TGA'), id='MK919144.1', name='MK919144', description='Acanthopagrus pacificus voucher SPAR040418-1 16S ribosomal RNA gene, partial sequence; mitochondrial', dbxrefs=[])"
      ]
     },
     "execution_count": 13,
     "metadata": {},
     "output_type": "execute_result"
    }
   ],
   "source": [
    "handle = Entrez.efetch(db=\"nucleotide\", \n",
    "                       id=\"MK919144.1\", \n",
    "                       rettype=\"gb\",\n",
    "                       retmode=\"text\")\n",
    "seq_record = SeqIO.read(handle, \"genbank\")\n",
    "handle.close()\n",
    "seq_record"
   ]
  },
  {
   "cell_type": "code",
   "execution_count": 16,
   "id": "67c6b425-07f1-4f58-89a4-41cc6ce60520",
   "metadata": {
    "scrolled": true,
    "tags": []
   },
   "outputs": [
    {
     "name": "stdout",
     "output_type": "stream",
     "text": [
      "MK919144\n",
      "567\n",
      "DNA     linear\n",
      "VRT\n",
      "10-JUL-2020\n",
      "Acanthopagrus pacificus voucher SPAR040418-1 16S ribosomal RNA gene, partial sequence; mitochondrial\n",
      "['MK919144']\n",
      "\n",
      "\n",
      "MK919144.1\n",
      "\n",
      "\n",
      "['']\n",
      "\n",
      "mitochondrion Acanthopagrus pacificus (Pacific sunbream)\n",
      "Acanthopagrus pacificus\n",
      "['Eukaryota', 'Metazoa', 'Chordata', 'Craniata', 'Vertebrata', 'Euteleostomi', 'Actinopterygii', 'Neopterygii', 'Teleostei', 'Neoteleostei', 'Acanthomorphata', 'Eupercaria', 'Spariformes', 'Sparidae', 'Acanthopagrus']\n",
      "[<Bio.GenBank.Record.Reference object at 0x000001E2CE91FC40>, <Bio.GenBank.Record.Reference object at 0x000001E2CE91FC70>]\n",
      "\n",
      "[Feature(key='source', location='1..567'), Feature(key='rRNA', location='<1..>567')]\n",
      "\n",
      "\n",
      "AAGAGGTCCCGCCTGCCCTGTGACTATATGTTCAACGGCCGCGGTATTTTGACCGTGCGAAGGTAGCGTAATCACTTGTCTTTTAAATGAAGACCTGTATGAATGGCACCACGAGGGCTTAACTGTCTCCCTCTCCCAGTCAATGAAATTGATTCCCCCGTGCAGAAGCGGGGATAAAAGCATAAGACGAGAAGACCCTATGGAGCTTAAGACGCCAGGACAGCTCATGTTAAACACTCCAAAATAAAGGAAATAAACTGATTGAAACCCTGTCCTAGTGTCTTTGGTTGGGGCGACCACGGGGAAAAATCTAACCCCCATGTGGAATAGGAATACTATTTTCCCATACCCAAGAGTTCCCGCTCTAATAAACAGAACTTCTGACCAAAATGGATCCGGCAATGCCGATCAACGGACCGAGTTACCCTAGGGATAACAGCGCAATCCTCTTAAAGAGTCCCTATCGACAAGGGGGTTTACGACCTCGATGTTGGATCAGGACATCCTAATGGTGCAGCCGCTATTAAGGGTTCGTTTGTTCAACGATTAAAGTCCTACGTGATCTGA\n",
      "\n",
      "[]\n",
      "1\n",
      "(bases 1 to 567)\n",
      "Hasan,M.E., Durand,J.-D. and Iwatsuki,Y.\n",
      "Acanthopagrus datnia (Hamilton, 1822), a senior synonym of#Acanthopagrus longispinnis (Valenciennes, 1830) (Perciformes: Sparidae)\n",
      "Zootaxa 4750 (2), 151-181 (2020)\n",
      "\n",
      "\n",
      "     source          1..567\n",
      "                     /organism=\"Acanthopagrus pacificus\"\n",
      "                     /organelle=\"mitochondrion\"\n",
      "                     /mol_type=\"genomic DNA\"\n",
      "                     /specimen_voucher=\"SPAR040418-1\"\n",
      "                     /db_xref=\"BOLD:SPARM032-19.16S\"\n",
      "                     /db_xref=\"taxon:1129777\"\n",
      "                     /country=\"Viet Nam: Ba Ria-Vung Tau, V##ng T##u (fish\n",
      "                     market in Ho Chi Minh, D2)\"\n",
      "                     /collection_date=\"04-Apr-2018\"\n",
      "                     /collected_by=\"Jean-Dominique Durand\"\n",
      "                     /identified_by=\"Jean-Dominique Durand\"\n",
      "\n",
      "     source          1..567\n",
      "                     /organism=\"Acanthopagrus pacificus\"\n",
      "                     /organelle=\"mitochondrion\"\n",
      "                     /mol_type=\"genomic DNA\"\n",
      "                     /specimen_voucher=\"SPAR040418-1\"\n",
      "                     /db_xref=\"BOLD:SPARM032-19.16S\"\n",
      "                     /db_xref=\"taxon:1129777\"\n",
      "                     /country=\"Viet Nam: Ba Ria-Vung Tau, V##ng T##u (fish\n",
      "                     market in Ho Chi Minh, D2)\"\n",
      "                     /collection_date=\"04-Apr-2018\"\n",
      "                     /collected_by=\"Jean-Dominique Durand\"\n",
      "                     /identified_by=\"Jean-Dominique Durand\"\n",
      "\n"
     ]
    }
   ],
   "source": [
    "from Bio import GenBank\n",
    "\n",
    "# handle = Entrez.efetch(db=\"nucleotide\", \n",
    "#                        id=\"MK919144.1\", \n",
    "#                        rettype=\"gb\",\n",
    "#                        retmode=\"text\")\n",
    "with open(\"MK919144.1.gbk\") as handle:\n",
    "    for record in GenBank.parse(handle):\n",
    "        print(record.locus)\n",
    "        print(record.size)\n",
    "        print(record.residue_type)\n",
    "        print(record.data_file_division)\n",
    "        print(record.date)\n",
    "        print(record.definition)\n",
    "        print(record.accession)\n",
    "        print(record.nid)\n",
    "        print(record.pid)\n",
    "        print(record.version)\n",
    "        print(record.db_source)\n",
    "        print(record.gi)\n",
    "        print(record.keywords)\n",
    "        print(record.segment)\n",
    "        print(record.source)\n",
    "        print(record.organism)\n",
    "        print(record.taxonomy)\n",
    "        print(record.references)\n",
    "        print(record.comment)\n",
    "        print(record.features)\n",
    "        print(record.base_counts)\n",
    "        print(record.origin)\n",
    "        print(record.sequence)\n",
    "        print(record.contig)\n",
    "        print(record.dblinks)\n",
    "        print(record.references[0].number)\n",
    "        print(record.references[0].bases)\n",
    "        print(record.references[0].authors)\n",
    "        print(record.references[0].title)\n",
    "        print(record.references[0].journal)\n",
    "        print(record.references[0].pubmed_id)\n",
    "        print(record.references[0].remark)\n",
    "        print(record.features[0])\n",
    "        print(record.features[0])\n",
    "        # print(record.features[0].qualifiers['organism'][0])"
   ]
  },
  {
   "cell_type": "code",
   "execution_count": 15,
   "id": "d2b78cad-1cf7-47ff-beab-6e54784bd3b3",
   "metadata": {},
   "outputs": [
    {
     "name": "stdout",
     "output_type": "stream",
     "text": [
      "Acanthopagrus pacificus\n",
      "mitochondrion\n",
      "genomic DNA\n",
      "BOLD:SPARM032-19.16S\n",
      "Viet Nam: Ba Ria-Vung Tau, V##ng T##u (fish market in Ho Chi Minh, D2)\n",
      "04-Apr-2018\n",
      "Jean-Dominique Durand\n",
      "Jean-Dominique Durand\n"
     ]
    }
   ],
   "source": [
    "from Bio import SeqIO\n",
    "\n",
    "record = SeqIO.read(\"MK919144.1.gbk\", \"genbank\")\n",
    "qualifiers = record.features[0].qualifiers\n",
    "print(qualifiers['organism'][0])\n",
    "print(qualifiers['organelle'][0])\n",
    "print(qualifiers['mol_type'][0])\n",
    "print(qualifiers['db_xref'][0])\n",
    "print(qualifiers['country'][0])\n",
    "print(qualifiers['collection_date'][0])\n",
    "print(qualifiers['collected_by'][0])\n",
    "print(qualifiers['identified_by'][0])"
   ]
  }
 ],
 "metadata": {
  "kernelspec": {
   "display_name": "Python 3 (ipykernel)",
   "language": "python",
   "name": "python3"
  },
  "language_info": {
   "codemirror_mode": {
    "name": "ipython",
    "version": 3
   },
   "file_extension": ".py",
   "mimetype": "text/x-python",
   "name": "python",
   "nbconvert_exporter": "python",
   "pygments_lexer": "ipython3",
   "version": "3.8.13"
  }
 },
 "nbformat": 4,
 "nbformat_minor": 5
}
