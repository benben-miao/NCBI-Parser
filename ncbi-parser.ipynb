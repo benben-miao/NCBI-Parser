{
 "cells": [
  {
   "cell_type": "code",
   "execution_count": 51,
   "id": "dcbd9193-9d9c-4d5f-a446-f2d6a02c196b",
   "metadata": {},
   "outputs": [],
   "source": [
    "from Bio import Entrez\n",
    "\n",
    "Entrez.email = \"benben.miao@outlook.com\"\n",
    "Entrez.api_key = \"599c49d62fb353ea412ff6d13cedec568c09\""
   ]
  },
  {
   "cell_type": "code",
   "execution_count": 52,
   "id": "81a89749-e434-4872-8be1-85d0ff23849d",
   "metadata": {},
   "outputs": [
    {
     "name": "stdout",
     "output_type": "stream",
     "text": [
      "b'<?xml version=\"1.0\" encoding=\"UTF-8\" ?>\\n<!DOCTYPE eInfoResult PUBLIC \"-//NLM//DTD einfo 20190110//EN\" \"https://eutils.ncbi.nlm.nih.gov/eutils/dtd/20190110/einfo.dtd\">\\n<eInfoResult>\\n<DbList>\\n\\n\\t<DbName>pubmed</DbName>\\n\\t<DbName>protein</DbName>\\n\\t<DbName>nuccore</DbName>\\n\\t<DbName>ipg</DbName>\\n\\t<DbName>nucleotide</DbName>\\n\\t<DbName>structure</DbName>\\n\\t<DbName>genome</DbName>\\n\\t<DbName>annotinfo</DbName>\\n\\t<DbName>assembly</DbName>\\n\\t<DbName>bioproject</DbName>\\n\\t<DbName>biosample</DbName>\\n\\t<DbName>blastdbinfo</DbName>\\n\\t<DbName>books</DbName>\\n\\t<DbName>cdd</DbName>\\n\\t<DbName>clinvar</DbName>\\n\\t<DbName>gap</DbName>\\n\\t<DbName>gapplus</DbName>\\n\\t<DbName>grasp</DbName>\\n\\t<DbName>dbvar</DbName>\\n\\t<DbName>gene</DbName>\\n\\t<DbName>gds</DbName>\\n\\t<DbName>geoprofiles</DbName>\\n\\t<DbName>homologene</DbName>\\n\\t<DbName>medgen</DbName>\\n\\t<DbName>mesh</DbName>\\n\\t<DbName>ncbisearch</DbName>\\n\\t<DbName>nlmcatalog</DbName>\\n\\t<DbName>omim</DbName>\\n\\t<DbName>orgtrack</DbName>\\n\\t<DbName>pmc</DbName>\\n\\t<DbName>popset</DbName>\\n\\t<DbName>proteinclusters</DbName>\\n\\t<DbName>pcassay</DbName>\\n\\t<DbName>protfam</DbName>\\n\\t<DbName>pccompound</DbName>\\n\\t<DbName>pcsubstance</DbName>\\n\\t<DbName>seqannot</DbName>\\n\\t<DbName>snp</DbName>\\n\\t<DbName>sra</DbName>\\n\\t<DbName>taxonomy</DbName>\\n\\t<DbName>biocollections</DbName>\\n\\t<DbName>gtr</DbName>\\n</DbList>\\n\\n</eInfoResult>\\n'\n"
     ]
    }
   ],
   "source": [
    "handle = Entrez.einfo()\n",
    "result = handle.read()\n",
    "handle.close()\n",
    "print(result)"
   ]
  },
  {
   "cell_type": "code",
   "execution_count": 53,
   "id": "e6c4e5d4-704d-4f2a-9339-58cc39415074",
   "metadata": {},
   "outputs": [
    {
     "data": {
      "text/plain": [
       "{'DbList': ['pubmed', 'protein', 'nuccore', 'ipg', 'nucleotide', 'structure', 'genome', 'annotinfo', 'assembly', 'bioproject', 'biosample', 'blastdbinfo', 'books', 'cdd', 'clinvar', 'gap', 'gapplus', 'grasp', 'dbvar', 'gene', 'gds', 'geoprofiles', 'homologene', 'medgen', 'mesh', 'ncbisearch', 'nlmcatalog', 'omim', 'orgtrack', 'pmc', 'popset', 'proteinclusters', 'pcassay', 'protfam', 'pccompound', 'pcsubstance', 'seqannot', 'snp', 'sra', 'taxonomy', 'biocollections', 'gtr']}"
      ]
     },
     "execution_count": 53,
     "metadata": {},
     "output_type": "execute_result"
    }
   ],
   "source": [
    "handle = Entrez.einfo()\n",
    "record = Entrez.read(handle)\n",
    "record"
   ]
  },
  {
   "cell_type": "code",
   "execution_count": 54,
   "id": "96c98343-3046-47a3-a711-b728b5580750",
   "metadata": {},
   "outputs": [
    {
     "data": {
      "text/plain": [
       "['pubmed', 'protein', 'nuccore', 'ipg', 'nucleotide', 'structure', 'genome', 'annotinfo', 'assembly', 'bioproject', 'biosample', 'blastdbinfo', 'books', 'cdd', 'clinvar', 'gap', 'gapplus', 'grasp', 'dbvar', 'gene', 'gds', 'geoprofiles', 'homologene', 'medgen', 'mesh', 'ncbisearch', 'nlmcatalog', 'omim', 'orgtrack', 'pmc', 'popset', 'proteinclusters', 'pcassay', 'protfam', 'pccompound', 'pcsubstance', 'seqannot', 'snp', 'sra', 'taxonomy', 'biocollections', 'gtr']"
      ]
     },
     "execution_count": 54,
     "metadata": {},
     "output_type": "execute_result"
    }
   ],
   "source": [
    "record[\"DbList\"]"
   ]
  },
  {
   "cell_type": "code",
   "execution_count": 55,
   "id": "c6464fe6-07a1-41de-bb77-79b9bd77d789",
   "metadata": {},
   "outputs": [
    {
     "data": {
      "text/plain": [
       "{'Count': '3', 'RetMax': '3', 'RetStart': '0', 'IdList': ['34434786', '22909249', '19304878'], 'TranslationSet': [], 'TranslationStack': [{'Term': 'biopython[title]', 'Field': 'title', 'Count': '3', 'Explode': 'N'}, 'GROUP'], 'QueryTranslation': 'biopython[title]'}"
      ]
     },
     "execution_count": 55,
     "metadata": {},
     "output_type": "execute_result"
    }
   ],
   "source": [
    "handle = Entrez.esearch(db=\"pubmed\", \n",
    "                        term=\"biopython[title]\", \n",
    "                        retmax=\"50\")\n",
    "record = Entrez.read(handle)\n",
    "record"
   ]
  },
  {
   "cell_type": "code",
   "execution_count": null,
   "id": "67cfe701-de10-4d48-a016-b26771b14ab1",
   "metadata": {
    "tags": []
   },
   "outputs": [],
   "source": [
    "handle = Entrez.esearch(db=\"nucleotide\", \n",
    "                        term=\"Acanthopagrus 16S\", \n",
    "                        idtype=\"acc\", \n",
    "                        retmax=\"500\", \n",
    "                        retstart=\"0\")\n",
    "record = Entrez.read(handle)\n",
    "record"
   ]
  },
  {
   "cell_type": "code",
   "execution_count": null,
   "id": "95eeb1b6-ca74-49f8-bd9f-b8d6ec95b447",
   "metadata": {},
   "outputs": [],
   "source": [
    "\"MK919144.1\" in record['IdList']"
   ]
  },
  {
   "cell_type": "code",
   "execution_count": null,
   "id": "c461f392-ba00-422b-ac84-4252b60fe928",
   "metadata": {
    "scrolled": true,
    "tags": []
   },
   "outputs": [],
   "source": [
    "handle = Entrez.efetch(db=\"nucleotide\", \n",
    "                       id=\"MK919144.1\", \n",
    "                       rettype=\"gb\",\n",
    "                       retmode=\"text\")\n",
    "print(handle.read())\n",
    "handle.close()"
   ]
  },
  {
   "cell_type": "code",
   "execution_count": null,
   "id": "0d320dd8-52b0-461a-a489-5d880f04090a",
   "metadata": {
    "scrolled": true,
    "tags": []
   },
   "outputs": [],
   "source": [
    "handle = Entrez.efetch(db=\"nucleotide\", \n",
    "                       id=\"MK919144.1\", \n",
    "                       rettype=\"fasta\",\n",
    "                       retmode=\"text\")\n",
    "print(handle.read())\n",
    "handle.close()"
   ]
  },
  {
   "cell_type": "code",
   "execution_count": null,
   "id": "eb378af0-f6b2-444f-a2b0-e628cdfe3c60",
   "metadata": {},
   "outputs": [],
   "source": [
    "from Bio import SeqIO\n",
    "\n",
    "handle = Entrez.efetch(db=\"nucleotide\", \n",
    "                       id=\"MK919144.1\", \n",
    "                       rettype=\"gb\",\n",
    "                       retmode=\"text\")\n",
    "seq_record = SeqIO.read(handle, \"genbank\")\n",
    "handle.close()\n",
    "print(seq_record)"
   ]
  },
  {
   "cell_type": "code",
   "execution_count": null,
   "id": "f4c245b0-98fe-47c6-9940-8dcabe9cb4f4",
   "metadata": {},
   "outputs": [],
   "source": [
    "print(seq_record.seq)"
   ]
  },
  {
   "cell_type": "code",
   "execution_count": null,
   "id": "86674b42-8bd9-46d0-a0f7-33f8e157c281",
   "metadata": {},
   "outputs": [],
   "source": [
    "import os\n",
    "from Bio import SeqIO\n",
    "from Bio import Entrez\n",
    "\n",
    "f_genbank = \"MK919144.1.gbk\"\n",
    "f_seq = \"MK919144.1.seq\"\n",
    "if not os.path.isfile(f_seq):\n",
    "    net_handle = Entrez.efetch(\n",
    "        db=\"nucleotide\", \n",
    "        id=\"MK919144.1\", \n",
    "        rettype=\"gb\", \n",
    "        retmode=\"text\"\n",
    "    )\n",
    "    genbank_record = net_handle.read()\n",
    "    genbank_handle = open(f_genbank, \"w\")\n",
    "    genbank_handle.write(genbank_record)\n",
    "    print(\"GenBank file saved\")\n",
    "    \n",
    "    # seq_record = SeqIO.read(net_handle, \"genbank\")\n",
    "    # seq_handle = open(f_seq, \"w\")\n",
    "    # seq_handle.write(str(seq_record.seq))\n",
    "    # print(\"Sequence file saved\")\n",
    "    \n",
    "    genbank_handle.close()\n",
    "    # seq_handle.close()\n",
    "    net_handle.close()\n",
    "\n",
    "seq_record = SeqIO.read(f_genbank, \"genbank\")\n",
    "seq_handle = open(f_seq, \"w\")\n",
    "seq_handle.write(str(seq_record.seq))\n",
    "print(\"Sequence file saved\")\n",
    "seq_handle.close()"
   ]
  },
  {
   "cell_type": "code",
   "execution_count": null,
   "id": "3bd25617-a213-462b-a888-b27115f85e8a",
   "metadata": {},
   "outputs": [],
   "source": [
    "handle = Entrez.efetch(db=\"nucleotide\", \n",
    "                       id=\"MK919144.1\", \n",
    "                       rettype=\"gb\",\n",
    "                       retmode=\"text\")\n",
    "seq_record = SeqIO.read(handle, \"genbank\")\n",
    "handle.close()\n",
    "seq_record"
   ]
  },
  {
   "cell_type": "code",
   "execution_count": null,
   "id": "67c6b425-07f1-4f58-89a4-41cc6ce60520",
   "metadata": {
    "scrolled": true,
    "tags": []
   },
   "outputs": [],
   "source": [
    "from Bio import GenBank\n",
    "\n",
    "# handle = Entrez.efetch(db=\"nucleotide\", \n",
    "#                        id=\"MK919144.1\", \n",
    "#                        rettype=\"gb\",\n",
    "#                        retmode=\"text\")\n",
    "with open(\"MK919144.1.gbk\") as handle:\n",
    "    for record in GenBank.parse(handle):\n",
    "        # print(record.locus)\n",
    "        # print(record.size)\n",
    "        # print(record.residue_type)\n",
    "        # print(record.data_file_division)\n",
    "        # print(record.date)\n",
    "        # print(record.definition)\n",
    "        # print(record.accession)\n",
    "        # print(record.nid)\n",
    "        # print(record.pid)\n",
    "        # print(record.version)\n",
    "        # print(record.db_source)\n",
    "        # print(record.gi)\n",
    "        # print(record.keywords)\n",
    "        # print(record.segment)\n",
    "        # print(record.source)\n",
    "        # print(record.organism)\n",
    "        # print(record.taxonomy)\n",
    "        # print(record.references)\n",
    "        # print(record.comment)\n",
    "        # print(record.features)\n",
    "        # print(record.base_counts)\n",
    "        # print(record.origin)\n",
    "        # print(record.sequence)\n",
    "        # print(record.contig)\n",
    "        # print(record.dblinks)\n",
    "        print(record.references[0].number)\n",
    "        print(record.references[0].bases)\n",
    "        print(record.references[0].authors)\n",
    "        print(record.references[0].title)\n",
    "        print(record.references[0].journal)\n",
    "        print(record.references[0].pubmed_id)\n",
    "        print(record.references[0].remark)\n",
    "        # print(record.features[0])\n",
    "        # print(record.features[0])\n",
    "        # print(record.features[0].qualifiers['organism'][0])"
   ]
  },
  {
   "cell_type": "code",
   "execution_count": null,
   "id": "d2b78cad-1cf7-47ff-beab-6e54784bd3b3",
   "metadata": {},
   "outputs": [],
   "source": [
    "from Bio import SeqIO\n",
    "\n",
    "record = SeqIO.read(\"MK919144.1.gbk\", \"genbank\")\n",
    "qualifiers = record.features[0].qualifiers\n",
    "print(qualifiers['organism'][0])\n",
    "print(qualifiers['organelle'][0])\n",
    "print(qualifiers['mol_type'][0])\n",
    "print(qualifiers['db_xref'][0])\n",
    "print(qualifiers['country'][0])\n",
    "print(qualifiers['collection_date'][0])\n",
    "print(qualifiers['collected_by'][0])\n",
    "print(qualifiers['identified_by'][0])"
   ]
  }
 ],
 "metadata": {
  "kernelspec": {
   "display_name": "Python 3 (ipykernel)",
   "language": "python",
   "name": "python3"
  },
  "language_info": {
   "codemirror_mode": {
    "name": "ipython",
    "version": 3
   },
   "file_extension": ".py",
   "mimetype": "text/x-python",
   "name": "python",
   "nbconvert_exporter": "python",
   "pygments_lexer": "ipython3",
   "version": "3.8.13"
  }
 },
 "nbformat": 4,
 "nbformat_minor": 5
}
